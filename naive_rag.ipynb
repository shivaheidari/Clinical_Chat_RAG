{
 "cells": [
  {
   "cell_type": "code",
   "execution_count": 1,
   "id": "95daa8d9",
   "metadata": {},
   "outputs": [],
   "source": [
    "!pip install -q -U google-generativeai\n"
   ]
  },
  {
   "cell_type": "code",
   "execution_count": 2,
   "id": "54d54de3",
   "metadata": {},
   "outputs": [
    {
     "name": "stderr",
     "output_type": "stream",
     "text": [
      "/home/shiva/GIT_C/Clinical_Chat_RAG/.venv/lib/python3.10/site-packages/tqdm/auto.py:21: TqdmWarning: IProgress not found. Please update jupyter and ipywidgets. See https://ipywidgets.readthedocs.io/en/stable/user_install.html\n",
      "  from .autonotebook import tqdm as notebook_tqdm\n"
     ]
    }
   ],
   "source": [
    "import google.generativeai as genai"
   ]
  },
  {
   "cell_type": "code",
   "execution_count": 3,
   "id": "249ab235",
   "metadata": {},
   "outputs": [],
   "source": [
    "with open(\"key.txt\") as f:\n",
    "    API_KEY = f.read().strip()\n",
    "\n",
    "genai.configure(api_key=API_KEY)"
   ]
  },
  {
   "cell_type": "code",
   "execution_count": 5,
   "id": "5fb49bb2",
   "metadata": {},
   "outputs": [
    {
     "name": "stdout",
     "output_type": "stream",
     "text": [
      "Hello there! How can I help you today?\n",
      "\n"
     ]
    }
   ],
   "source": [
    "model = genai.GenerativeModel(\"gemini-1.5-flash\")\n",
    "response = model.generate_content(\"hello\")\n",
    "\n",
    "print(response.text)"
   ]
  },
  {
   "cell_type": "code",
   "execution_count": 6,
   "id": "6e124fad",
   "metadata": {},
   "outputs": [
    {
     "name": "stdout",
     "output_type": "stream",
     "text": [
      "I can do a lot of things!  As a large language model, my capabilities are quite broad, but they all fall under the umbrella of processing and generating text.  Here are some examples:\n",
      "\n",
      "* **Answer your questions:**  I can answer questions on a vast range of topics, from factual information to complex concepts.  My knowledge is based on the massive dataset I was trained on.\n",
      "\n",
      "* **Generate different creative text formats (poems, code, scripts, musical pieces, email, letters, etc.):**  I can write stories, poems, summaries, articles, and more in various styles.  I can even attempt to generate code in different programming languages.\n",
      "\n",
      "* **Translate languages:** I can translate text between many different languages.\n",
      "\n",
      "* **Summarize factual topics or create stories:**  I can condense lengthy texts into concise summaries or create fictional narratives based on prompts.\n",
      "\n",
      "* **Follow your instructions and complete requests:** I can perform tasks based on your instructions, such as writing different kinds of creative content, providing information, or translating text.\n",
      "\n",
      "* **Chat and engage in conversation:** I can engage in conversations on various topics, though I don't have personal opinions or experiences.\n",
      "\n",
      "\n",
      "However, it's important to remember my limitations:\n",
      "\n",
      "* **I don't have personal experiences or feelings:**  My responses are based on patterns and information from my training data.\n",
      "* **I can sometimes generate incorrect or misleading information:**  While I strive for accuracy, my knowledge is not perfect, and I can sometimes make mistakes.  Always double-check important information from reliable sources.\n",
      "* **I don't have access to real-time information:** My knowledge cutoff is a specific point in time, so I won't know about events that happened after that date.\n",
      "* **I cannot provide financial, medical, or legal advice:**  These areas require professional expertise.\n",
      "\n",
      "\n",
      "To get the best results, be specific and clear in your requests.  The more detail you provide, the better I can understand your needs and provide a helpful response.\n",
      "\n"
     ]
    }
   ],
   "source": [
    "chat = model.start_chat(history=[])\n",
    "response = chat.send_message(\"What can you do\")\n",
    "\n",
    "print(response.text)"
   ]
  },
  {
   "cell_type": "code",
   "execution_count": null,
   "id": "939c1ba5",
   "metadata": {},
   "outputs": [],
   "source": []
  }
 ],
 "metadata": {
  "kernelspec": {
   "display_name": ".venv",
   "language": "python",
   "name": "python3"
  },
  "language_info": {
   "codemirror_mode": {
    "name": "ipython",
    "version": 3
   },
   "file_extension": ".py",
   "mimetype": "text/x-python",
   "name": "python",
   "nbconvert_exporter": "python",
   "pygments_lexer": "ipython3",
   "version": "3.10.12"
  }
 },
 "nbformat": 4,
 "nbformat_minor": 5
}
